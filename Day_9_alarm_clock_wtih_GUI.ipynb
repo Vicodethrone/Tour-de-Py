{
  "nbformat": 4,
  "nbformat_minor": 0,
  "metadata": {
    "colab": {
      "name": "Day 9: alarm clock wtih GUI.ipynb",
      "provenance": [],
      "collapsed_sections": [],
      "toc_visible": true,
      "authorship_tag": "ABX9TyMlGzjabmaPT5lh5PZtYdxd",
      "include_colab_link": true
    },
    "kernelspec": {
      "name": "python3",
      "display_name": "Python 3"
    },
    "language_info": {
      "name": "python"
    }
  },
  "cells": [
    {
      "cell_type": "markdown",
      "metadata": {
        "id": "view-in-github",
        "colab_type": "text"
      },
      "source": [
        "<a href=\"https://colab.research.google.com/github/Vicodethrone/Tour-de-Py/blob/main/Day_9_alarm_clock_wtih_GUI.ipynb\" target=\"_parent\"><img src=\"https://colab.research.google.com/assets/colab-badge.svg\" alt=\"Open In Colab\"/></a>"
      ]
    },
    {
      "cell_type": "markdown",
      "metadata": {
        "id": "aNqqQrFgESZi"
      },
      "source": [
        "# Alarm clock\n",
        "\n",
        "Đồng hồ báo thức dường như là một phần trong cuộc sống của mỗi người khi ta muốn thức dậy hay để phục vụ cho công việc (deadline). \n",
        "\n",
        "Ở bài này chúng ta sẽ sử dụng thư viện tkinter để thiết kế giao diện với ôn lại một số widget cơ bản\n",
        "\n",
        "Ngoài ra chúng ta cũng sử dụng module time để có thể sử dụng strftime() (tìm hiểu thêm ở [đây](https://quantrimang.com/module-time-trong-python-165222#mcetoc_1dfpm2eda8)) và winsound để có chuông báo thức."
      ]
    },
    {
      "cell_type": "code",
      "metadata": {
        "id": "gErG-yUA1F8k"
      },
      "source": [
        "import tkinter as tk\n",
        "from tkinter import *\n",
        "from tkinter import messagebox\n",
        "import time, winsound"
      ],
      "execution_count": null,
      "outputs": []
    },
    {
      "cell_type": "markdown",
      "metadata": {
        "id": "lTNbJpss1IbS"
      },
      "source": [
        "#Thiết kế giao diện\n",
        "\n",
        "Đầu tiên tạo một hàm để chứa các widget, giao diện sau đó thiết kế grid layout với 4 hàng và 2 cột (row: 0 -> 3, column 0 -> 1):\n",
        "*   hàng và cột đầu tiên (row = 0, column = 0) là label \"Enter the time in hh:mm - \" để người dùng có thể biết nội dung cần nhập\n",
        "*   hàng đầu tiên, cột thứ hai (row = 0, column = 1) là single-form hay entry để người dùng nhập thông tin ứng với label cùng row\n",
        "* hàng thứ hai, cột đầu tiên (row = 1, column = 0) label thứ 2 với nội dung \"Enter the message of alarm - \"\n",
        "* hàng thứ hai, cột thứ hai (row = 1, column = 1) là single-form hay entry để người dùng nhập thông tin ứng với label cùng row\n",
        "* hàng thứ ba, cột thứ hai (row = 2, column = 1) là button để submit, đặt chuông\n",
        "* hàng thứ tư, cột đầu tiên (row = 3, column = 0) là label trống để hiển thị tin nhắn thông báo chờ đến báo thức và chuông báo thức kêu.\n",
        "\n",
        "\n",
        "\n"
      ]
    },
    {
      "cell_type": "code",
      "metadata": {
        "id": "Mr2oWQtv3Ezj"
      },
      "source": [
        "def creatWidgets():\n",
        "    #layout\n",
        "    label1 = Label(root, text = \"Enter the time in hh:mm - \")\n",
        "    label1.grid(row = 0, column = 0, padx = 5, pady = 5)\n",
        "\n",
        "    global entry1\n",
        "    entry1 = Entry(root, width = 15)\n",
        "    entry1.grid(row = 0, column = 1)\n",
        "\n",
        "    label2 = Label(root, text=\"Enter the message of alarm - \")\n",
        "    label2.grid(row=1, column=0, padx=5, pady=5)\n",
        "\n",
        "    global entry2\n",
        "    entry2 = Entry(root, width=15)\n",
        "    entry2.grid(row=1, column=1)\n",
        "\n",
        "    #button\n",
        "    but = Button(root, text=\"Submit\", width=10, command=submit)\n",
        "    but.grid(row=2, column=1)\n",
        "\n",
        "    global label3\n",
        "    label3 = Label(root, text = \"\")\n",
        "    label3.grid(row=3, column=0)"
      ],
      "execution_count": null,
      "outputs": []
    },
    {
      "cell_type": "markdown",
      "metadata": {
        "id": "Cuj8ZhOQCx4D"
      },
      "source": [
        "![image.png](data:image/png;base64,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)"
      ]
    },
    {
      "cell_type": "markdown",
      "metadata": {
        "id": "Z1qruGk8B-K_"
      },
      "source": [
        "# Hàm thực hiện tính năng\n",
        "\n",
        "* Ở mỗi hàm sẽ khao báo biến global để có thể sử dụng lại biến giữa nhiều hàm\n",
        "\n",
        "*   hàm message1() để sau khi điền thời gian báo thức và tin nhắn cần thì sẽ in ra thời gian báo thức đang đếm và thời gian báo thức là bằng cách lấy string của entry1 (dòng form thứ nhất) bằn phương thức get() và show trên messagebox.\n",
        "*   hàm submit() để áng với nút button submit ở trên nhằm thực hiện sự kiện khi clink: \n",
        "    * Lấy entry1 bằng phương thức get() lưu vào biến Alarmtime\n",
        "    * chạy hàm message1()\n",
        "    * khởi tạo biến currenttime để lưu thời gian hiện tại qua phương thức strftime() của module time\n",
        "    * Lấy entry2 bằng phương thức get() vào biến alarmmessage\n",
        "    * In Alarmtime\n",
        "    * Tạo vòng lặp while để kiểm tra xem đã đến giờ báo thức chưa bằng việc liên tục gán currenttime = time.strftime(\"%H:%M\") với điều kiện currenttime != Alarmtime.\n",
        "    * Khi đến lúc currentime == Alarmtime, vòng lặp kết thúc chuyển sang câu lệnh điều kiện if: bật nhạc bằng phương thức Playsound của module winsound, sau đấy sử dụng showinfo của messagebox để show tin nhắn.\n",
        "\n"
      ]
    },
    {
      "cell_type": "code",
      "metadata": {
        "id": "PAWB2B5zGVNz"
      },
      "source": [
        "def submit():\n",
        "\n",
        "    global entry1, entry2, label3\n",
        "    Alarmtime = entry1.get()\n",
        "    message1()\n",
        "    currenttime = time.strftime(\"%H:%%M\")\n",
        "    alarmmessage = entry2.get()\n",
        "    print(f\"The Alarm time is: {Alarmtime}\")\n",
        "\n",
        "\n",
        "    while Alarmtime != currenttime:\n",
        "        currenttime = time.strftime(\"%H:%M\")\n",
        "        time.sleep(1)\n",
        "\n",
        "    if Alarmtime == currenttime:\n",
        "        print(\"Playing Alarm Sound.....\")\n",
        "        winsound.PlaySound(\"*\", winsound.SND_ASYNC)\n",
        "        label3.config(text=\"Alarm Sound Playing>>>>\")\n",
        "        messagebox.showinfo(\"Alarm Message\", f\"The message is: {alarmmessage}\")"
      ],
      "execution_count": null,
      "outputs": []
    },
    {
      "cell_type": "markdown",
      "metadata": {
        "id": "5fhO4v52Gca1"
      },
      "source": [
        "# Chạy chương trình\n",
        "\n",
        "Chạy chương tình bằng thư viện tkinter thì ta phải tạo window, đặt tên cho chương trình, kích cỡ, chạy hàm, và cuối cùng là root.mainloop() để chạy chương trình"
      ]
    },
    {
      "cell_type": "code",
      "metadata": {
        "id": "bnee-e-GHAvq"
      },
      "source": [
        "root = tk.Tk() #creating window\n",
        "root.title(\"Alarm clock\") #creating title\n",
        "root.geometry(\"400x150\") #size\n",
        "creatWidgets() #function \n",
        "\n",
        "root.mainloop() #run"
      ],
      "execution_count": null,
      "outputs": []
    },
    {
      "cell_type": "markdown",
      "metadata": {
        "id": "LGae2HMR0__j"
      },
      "source": [
        "Vậy là bạn đã làm xong chương trình báo thức siêu đơn giản rồi đấy, thật là dịp tốt để vừa ôn tập mà cũng vừa thêm tiện ích cho công việc, cuộc sống của bản thân. Bạn hoàn toàn có thể làm hơn thế này bằng việc thêm các extension để khiến sản phẩm trở nên ấn tượng và ôn tập nhiều hơn."
      ]
    }
  ]
}