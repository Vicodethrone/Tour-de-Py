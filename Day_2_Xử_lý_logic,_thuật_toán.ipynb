{
  "nbformat": 4,
  "nbformat_minor": 0,
  "metadata": {
    "colab": {
      "name": "Day 2: Xử lý logic, thuật toán",
      "provenance": [],
      "collapsed_sections": [],
      "toc_visible": true,
      "include_colab_link": true
    },
    "kernelspec": {
      "display_name": "Python 3",
      "name": "python3"
    },
    "accelerator": "GPU"
  },
  "cells": [
    {
      "cell_type": "markdown",
      "metadata": {
        "id": "view-in-github",
        "colab_type": "text"
      },
      "source": [
        "<a href=\"https://colab.research.google.com/github/Vicodethrone/Tour-de-Py/blob/main/Day_2_X%E1%BB%AD_l%C3%BD_logic%2C_thu%E1%BA%ADt_to%C3%A1n.ipynb\" target=\"_parent\"><img src=\"https://colab.research.google.com/assets/colab-badge.svg\" alt=\"Open In Colab\"/></a>"
      ]
    },
    {
      "cell_type": "markdown",
      "metadata": {
        "id": "q0RUF971BBuT"
      },
      "source": [
        "# Thuật toán (Algorithms)\n",
        "Trong các hệ thống máy tính, thuật toán về cơ bản là một ví dụ của logic được viết trong phần mềm bởi các nhà phát triển phần mềm, để có hiệu quả đối với các máy tính \"đích\" nhằm tạo ra đầu ra từ đầu vào (có thể là rỗng) nhất định. Một thuật toán tối ưu, thậm chí chạy trong phần cứng cũ, sẽ tạo ra kết quả nhanh hơn thuật toán không tối ưu (độ phức tạp thời gian cao hơn) cho cùng mục đích, chạy trong phần cứng hiệu quả hơn; đó là lý do tại sao các thuật toán, như phần cứng máy tính, được coi là công nghệ. [Wikipedia](https://vi.wikipedia.org/wiki/Thu%E1%BA%ADt_to%C3%A1n#Thu%E1%BA%ADt_to%C3%A1n_m%C3%A1y_t%C3%ADnh)\n",
        "\n",
        "Có thể hiểu thuật toán đơn giản là cách giải quyết vấn đề cụ thể là một tập hợp hữu hạn các lệnh được thực hiện theo một thứ tự nhất định để có được kết quả mong muốn. Một thuật toán hiệu quả là nó phải tối ưu, nhanh mà tốn ít bộ nhớ nhất có thể. Ngoài ra thuật toán độc lập với ngôn ngữ lập trình, tức là một thuật toán có thể được triển khai trên nhiều ngôn ngữ lập trình khác nhau."
      ]
    },
    {
      "cell_type": "markdown",
      "metadata": {
        "id": "8CXkGcYUPcZE"
      },
      "source": [
        "# Các loại thuật toán trong lập trình\n",
        "Tuỳ từng ngành khoa học máy tính sẽ có những vấn đề khác nhau từ đó cho ra những thuật toán khác nhau. Ví dụ ở machine learning để dưa ra những nhận định, đánh giá thì cây quyết định (Decision Trees) hay hổi quy tuyến tính (Ordinary Least Squares Regression) để dự đoán. Nhưng những thuật toán cơ bản nhất là cơ sở hình thành nên kĩ năng, chính xác và độ chuyên nghiệp mà các lập trình viên phải nằm lòng :\n",
        "\n",
        "\n",
        "*   Độ phức tạp tính toán\n",
        "*   Những cách tiếp cận vấn đề\n",
        "*   Cấu trúc dữ liệu\n",
        "*   Tham lam\n",
        "*   Quay lui\n",
        "*   Quy hoạch động\n",
        "*   DFS & BFS\n",
        "*   Đồ thị cây\n",
        "*   Tối ưu hoá\n",
        "*   Xử lý sâu\n",
        "\n",
        "\n",
        "Ngoài ra để chắc chắn hơn về logic thì các lập trình viên còn phải nắm chắc kiến thức toán học như số học, hình học, ma trận, rời rạc hoá, xác suất, định lý Wilson, nhân nhanh đa thức...\n",
        "\n",
        "Nguồn: https://vnoi.info/wiki/Home\n",
        "\n",
        "\n",
        "\n",
        "\n",
        "\n"
      ]
    },
    {
      "cell_type": "markdown",
      "metadata": {
        "id": "basZrZVmgs_p"
      },
      "source": [
        "# Nhập môn \n",
        "Để có thể học được thuật toán bạn phải có nền tảng vững chắc về syntax cơ bản, xử lý một số vấn đề. Sau đây mình sẽ tổng hợp 20 bài lập trình kèm theo code theo mức độ khó tăng dần giúp bạn chắc hơn về cú pháp cũng như kiến thức của python. Ngoài ra để chắc tay hơn bạn hãy tham khảo các trang luyện code uy tín như codelearn, w3school, freecodecamp, python.org,... "
      ]
    },
    {
      "cell_type": "markdown",
      "metadata": {
        "id": "5UrCOgTx5fo_"
      },
      "source": [
        "# Bài 1:\n",
        "Viết chương trình tìm tất cả các số chia hết cho 7 nhưng không phải bội số của 5, nằm trong đoạn 2000 và 3200 (tính cả 2000 và 3200). Các số thu được sẽ được in thành chuỗi trên một dòng, cách nhau bằng dấu phẩy.\n",
        "\n",
        "Gợi ý: \n",
        "\n",
        "*   Sử dụng range(#begin, #end)\n",
        "\n",
        "\n"
      ]
    },
    {
      "cell_type": "code",
      "metadata": {
        "colab": {
          "base_uri": "https://localhost:8080/"
        },
        "id": "xWPywndCvJJ4",
        "outputId": "2b37e621-600b-4388-ed05-7a6fcd7152cb"
      },
      "source": [
        "j=[]\n",
        "for i in range(2000, 3201):\n",
        "    if (i%7==0) and (i%5!=0):\n",
        "        j.append(str(i))\n",
        "print (','.join(j))"
      ],
      "execution_count": 11,
      "outputs": [
        {
          "output_type": "stream",
          "name": "stdout",
          "text": [
            "2002,2009,2016,2023,2037,2044,2051,2058,2072,2079,2086,2093,2107,2114,2121,2128,2142,2149,2156,2163,2177,2184,2191,2198,2212,2219,2226,2233,2247,2254,2261,2268,2282,2289,2296,2303,2317,2324,2331,2338,2352,2359,2366,2373,2387,2394,2401,2408,2422,2429,2436,2443,2457,2464,2471,2478,2492,2499,2506,2513,2527,2534,2541,2548,2562,2569,2576,2583,2597,2604,2611,2618,2632,2639,2646,2653,2667,2674,2681,2688,2702,2709,2716,2723,2737,2744,2751,2758,2772,2779,2786,2793,2807,2814,2821,2828,2842,2849,2856,2863,2877,2884,2891,2898,2912,2919,2926,2933,2947,2954,2961,2968,2982,2989,2996,3003,3017,3024,3031,3038,3052,3059,3066,3073,3087,3094,3101,3108,3122,3129,3136,3143,3157,3164,3171,3178,3192,3199\n"
          ]
        }
      ]
    },
    {
      "cell_type": "markdown",
      "metadata": {
        "id": "udVsl-M185Wj"
      },
      "source": [
        "# Bài 2:\n",
        "Viết một chương trình có thể tính giai thừa của một số cho trước. Kết quả được in thành chuỗi trên một dòng, phân tách bởi dấu phẩy. Ví dụ, số cho trước là 8 thì kết quả đầu ra phải là 40320.\n",
        "\n",
        "Gợi ý:\n",
        "\n",
        "* Trong trường hợp dữ liệu đầu vào được cung cấp, bạn hãy chọn cách để người dùng nhập số vào.\n",
        "\n",
        "\n"
      ]
    },
    {
      "cell_type": "code",
      "metadata": {
        "colab": {
          "base_uri": "https://localhost:8080/"
        },
        "id": "gJr_9dXGpJ05",
        "outputId": "bf268dab-c32a-471a-ea6e-773605f4afe4"
      },
      "source": [
        "def main():\n",
        "  x=int(input(\"Nhập số cần tính giai thừa:\"))\n",
        "  def fact(x):\n",
        "      if x == 0:\n",
        "          return 1\n",
        "      return x * fact(x - 1)\n",
        "  print (fact(x))\n",
        "  \n",
        "#Dòng ở dưới các bạn không cần code \n",
        "if __name__ == '__main__':\n",
        "    try:\n",
        "        main()\n",
        "    except KeyboardInterrupt:\n",
        "        print('Interrupted')\n",
        "        sys.exit(0)"
      ],
      "execution_count": 18,
      "outputs": [
        {
          "output_type": "stream",
          "name": "stdout",
          "text": [
            "Nhập số cần tính giai thừa:6\n",
            "720\n"
          ]
        }
      ]
    },
    {
      "cell_type": "markdown",
      "metadata": {
        "id": "2fhs6GZ4qFMx"
      },
      "source": [
        "# Bài 3:\n",
        "Với số nguyên n nhất định, hãy viết chương trình để tạo ra một dictionary chứa (i, i*i) như là số nguyên từ 1 đến n (bao gồm cả 1 và n) sau đó in ra dictionary này. Ví dụ: Giả sử số n là 8 thì đầu ra sẽ là: {1: 1, 2: 4, 3: 9, 4: 16, 5: 25, 6: 36, 7: 49, 8: 64}.\n",
        "\n",
        "Gợi ý:\n",
        "*   Viết lệnh yêu cầu nhập số nguyên n.\n",
        "\n"
      ]
    },
    {
      "cell_type": "code",
      "metadata": {
        "colab": {
          "base_uri": "https://localhost:8080/"
        },
        "id": "-gE-Ez1qtyIA",
        "outputId": "a341db4e-8012-4f8c-9d12-d78dc6d0a626"
      },
      "source": [
        "n=int(input(\"Nhập vào một số:\"))\n",
        "d=dict()\n",
        "for i in range(1,n+1):\n",
        "    d[i]=i*i\n",
        "\n",
        "print (d)"
      ],
      "execution_count": 20,
      "outputs": [
        {
          "output_type": "stream",
          "name": "stdout",
          "text": [
            "Nhập vào một số:8\n",
            "{1: 1, 2: 4, 3: 9, 4: 16, 5: 25, 6: 36, 7: 49, 8: 64}\n"
          ]
        }
      ]
    },
    {
      "cell_type": "markdown",
      "metadata": {
        "id": "lSrWNr3MuFUS"
      },
      "source": [
        "# Bài 4:\n",
        "Viết chương trình chấp nhận một chuỗi số, phân tách bằng dấu phẩy từ giao diện điều khiển, tạo ra một danh sách và một tuple chứa mọi số.\n",
        "\n",
        "Ví dụ: Đầu vào được cung cấp là 34,67,55,33,12,98 thì đầu ra là:\n",
        "\n",
        "['34', '67', '55', '33', '12', '98']\n",
        "('34', '67', '55', '33', '12', '98')\n",
        "\n",
        "Gợi ý:\n",
        "*   Viết lệnh yêu cầu nhập vào các giá trị sau đó dùng quy tắc chuyển đổi kiểu dữ liệu để hoàn tất.\n",
        "\n",
        "\n",
        "\n"
      ]
    },
    {
      "cell_type": "code",
      "metadata": {
        "colab": {
          "base_uri": "https://localhost:8080/"
        },
        "id": "C4HZx7Gndbrh",
        "outputId": "835e8fc9-24d4-4b14-a927-d04be8ae40f0"
      },
      "source": [
        "values=input(\"Nhập vào các giá trị:\")\n",
        "l=values.split(\",\")\n",
        "t=tuple(l)\n",
        "print (l)\n",
        "print (t)"
      ],
      "execution_count": 21,
      "outputs": [
        {
          "output_type": "stream",
          "name": "stdout",
          "text": [
            "Nhập vào các giá trị:1,2,3,4,5,6\n",
            "['1', '2', '3', '4', '5', '6']\n",
            "('1', '2', '3', '4', '5', '6')\n"
          ]
        }
      ]
    },
    {
      "cell_type": "markdown",
      "metadata": {
        "id": "4_kCnsPUqS6o"
      },
      "source": [
        "# Bài 5:\n",
        "Định nghĩa một class có ít nhất 2 method:\n",
        "\n",
        "\n",
        "*   getString: để nhận một chuỗi do người dùng nhập vào từ giao diện điều khiển.\n",
        "*   printString: in chuỗi vừa nhập sang chữ hoa.\n",
        "\n",
        "*   Thêm vào các hàm hiểm tra đơn giản để kiểm tra method của class.\n",
        "\n",
        "Ví dụ: Chuỗi nhập vào là vicodeThrone.com thì đầu ra phải là: \n",
        "VICODETHRONE.COM\n",
        "\n",
        "Gợi ý:\n",
        "\n",
        "*   Sử dụng __init__ để xây dựng các tham số."
      ]
    },
    {
      "cell_type": "code",
      "metadata": {
        "colab": {
          "base_uri": "https://localhost:8080/"
        },
        "id": "aeiVKnwp_y7E",
        "outputId": "78860ced-2c03-40b1-9189-b49748c1a528"
      },
      "source": [
        "class InputOutString(object):\n",
        "   def __init__(self):\n",
        "       self.s = \"\"\n",
        "\n",
        "   def getString(self):\n",
        "       self.s = input(\"Nhập chuỗi:\")\n",
        "\n",
        "   def printString(self):\n",
        "       print (self.s.upper())\n",
        "\n",
        "strObj = InputOutString()\n",
        "strObj.getString()\n",
        "strObj.printString()"
      ],
      "execution_count": 74,
      "outputs": [
        {
          "output_type": "stream",
          "name": "stdout",
          "text": [
            "Nhập chuỗi:vicode throne\n",
            "VICODE THRONE\n"
          ]
        }
      ]
    },
    {
      "cell_type": "markdown",
      "metadata": {
        "id": "OwuxHmxllTwN"
      },
      "source": [
        "# Bài 6:\n",
        "\n",
        "Viết một method tính giá trị bình phương của một số.\n",
        "\n",
        "Gợi ý:\n",
        "*   Sử dụng toán tử **."
      ]
    },
    {
      "cell_type": "code",
      "metadata": {
        "colab": {
          "base_uri": "https://localhost:8080/"
        },
        "id": "ZUU3ptdOAmBf",
        "outputId": "48caf053-c543-47f9-c44e-19465cc802ea"
      },
      "source": [
        "x=int(input(\"Nhập một số:\")) #nhập số cần tính bình phương từ giao diện\n",
        "def square(num):  #định nghĩa bình phương của một số\n",
        "  return num ** 2\n",
        "  \n",
        "print (square(x)) #in bình phương của x"
      ],
      "execution_count": 24,
      "outputs": [
        {
          "output_type": "stream",
          "name": "stdout",
          "text": [
            "Nhập một số:9\n",
            "81\n"
          ]
        }
      ]
    },
    {
      "cell_type": "markdown",
      "metadata": {
        "id": "eyjMk2xMA56d"
      },
      "source": [
        "# Bài 7:\n",
        "Python có nhiều hàm được tích hợp sẵn, nếu không biết cách sử dụng nó, bạn có thể đọc tài liệu trực tuyến hoặc tìm vài cuốn sách. Nhưng Python cũng có sẵn tài liệu về hàm cho mọi hàm tích hợp trong Python. Yêu cầu của bài tập này là viết một chương trình để in tài liệu về một số hàm Python được tích hợp sẵn như abs(), int(), input() và thêm tài liệu cho hàm bạn tự định nghĩa.\n",
        "\n",
        "Gợi ý:\n",
        "*   Sử dụng __doc__\n",
        "\n",
        "\n"
      ]
    },
    {
      "cell_type": "code",
      "metadata": {
        "id": "9oz9TG_gA4Ze"
      },
      "source": [
        "print (abs.__doc__)\n",
        "print (int.__doc__)\n",
        "print (input.__doc__)\n",
        "\n",
        "def square(num):\n",
        " '''Trả lại giá trị bình phương của số được nhập vào.\n",
        "\n",
        " Số nhập vào phải là số nguyên.\n",
        " '''\n",
        " return num ** 2\n",
        "\n",
        "print (square.__doc__)"
      ],
      "execution_count": null,
      "outputs": []
    },
    {
      "cell_type": "markdown",
      "metadata": {
        "id": "AHbkd_koA2EK"
      },
      "source": [
        "# Bài 8:\n",
        "Định nghĩa một lớp gồm có tham số lớp và có cùng tham số instance\n",
        "\n",
        "Gợi ý:\n",
        "\n",
        "\n",
        "*   Khi định nghĩa tham số instance, cần thêm nó vào __init__\n",
        "*   Bạn có thể khởi tạo một đối tượng với tham số bắt đầu hoặc thiết lập giá trị sau đó.\n",
        "\n",
        "\n",
        "\n"
      ]
    },
    {
      "cell_type": "code",
      "metadata": {
        "colab": {
          "base_uri": "https://localhost:8080/"
        },
        "id": "syLbIa_JB3Bl",
        "outputId": "22b2514a-c3d2-4cea-df52-75056bce8057"
      },
      "source": [
        "class Person:\n",
        "  name = \"Person\" # Định nghĩa lớp \"name\"\n",
        "\n",
        "def __init__(self, name = None):\n",
        "  self.name = name # self.name là biến instance\n",
        "\n",
        "ronaldo = Person()\n",
        "ronaldo.name = \"Ronaldo\"\n",
        "print (\"%s name is %s\" % (Person.name, ronaldo.name))"
      ],
      "execution_count": 42,
      "outputs": [
        {
          "output_type": "stream",
          "name": "stdout",
          "text": [
            "Person name is Ronaldo\n"
          ]
        }
      ]
    },
    {
      "cell_type": "markdown",
      "metadata": {
        "id": "0j6uSiHeA3Fu"
      },
      "source": [
        "# Bài 9:\n",
        "Viết chương trình và in giá trị theo công thức cho trước: Q = √([(2 * C * D)/H]) (bằng chữ: Q bằng căn bậc hai của [(2 nhân C nhân D) chia H]. Với giá trị cố định của C là 50, H là 30. D là dãy giá trị tùy biến, được nhập vào từ giao diện người dùng, các giá trị của D được phân cách bằng dấu phẩy.\n",
        "\n",
        "Ví dụ: Giả sử chuỗi giá trị của D nhập vào là 100,150,180 thì đầu ra sẽ là 18,22,24.\n",
        "\n",
        "Gợi ý:\n",
        "*   Nếu đầu ra nhận được là một số dạng thập phân, bạn cần làm tròn thành giá trị gần nhất, ví dụ 26.0 sẽ được in là 26.\n",
        "Trong trường hợp dữ liệu đầu vào được cung cấp cho câu hỏi, nó được giả định là đầu vào do người dùng nhập từ giao diện điều khiển.\n",
        "\n",
        "\n",
        "\n"
      ]
    },
    {
      "cell_type": "code",
      "metadata": {
        "colab": {
          "base_uri": "https://localhost:8080/"
        },
        "id": "sYqVWw-9EtLL",
        "outputId": "3ba8492d-b0ab-432e-c034-66b0ca266312"
      },
      "source": [
        "import math\n",
        "c=50\n",
        "h=30\n",
        "value = []\n",
        "items=[x for x in input(\"Nhập giá trị của d: \").split(',')]\n",
        "for d in items:\n",
        "    value.append(str(int(round(math.sqrt(2*c*float(d)/h)))))\n",
        "\n",
        "print (','.join(value))"
      ],
      "execution_count": 43,
      "outputs": [
        {
          "output_type": "stream",
          "name": "stdout",
          "text": [
            "Nhập giá trị của d: 100\n",
            "18\n"
          ]
        }
      ]
    },
    {
      "cell_type": "markdown",
      "metadata": {
        "id": "IilUakasE4-g"
      },
      "source": [
        "# Bài 10:\n",
        "Viết một chương trình có 2 chữ số, X, Y nhận giá trị từ đầu vào và tạo ra một mảng 2 chiều. Giá trị phần tử trong hàng thứ i và cột thứ j của mảng phải là i*j.\n",
        "\n",
        "Lưu ý: i=0,1,...,X-1; j=0,1,...,Y-1.\n",
        "\n",
        "Ví dụ: Giá trị X, Y nhập vào là 3,5 thì đầu ra là: [[0, 0, 0, 0, 0], [0, 1, 2, 3, 4], [0, 2, 4, 6, 8]]\n",
        "\n",
        "Gợi ý:\n",
        "* Viết lệnh để nhận giá trị X, Y từ giao diện điều khiển do người dùng nhập vào.\n",
        "\n",
        "\n",
        "\n"
      ]
    },
    {
      "cell_type": "code",
      "metadata": {
        "colab": {
          "base_uri": "https://localhost:8080/"
        },
        "id": "WjspeLgMFYU7",
        "outputId": "a365e78e-bce3-4579-e046-fdc9a5b21b73"
      },
      "source": [
        "input_str = input(\"Nhập X, Y: \")\n",
        "dimensions=[int(x) for x in input_str.split(' ')]\n",
        "rowNum=dimensions[0]\n",
        "colNum=dimensions[1]\n",
        "multilist = [[0 for col in range(colNum)] for row in range(rowNum)]\n",
        "# Viết bởi Quantrimang.com\n",
        "for row in range(rowNum):\n",
        "    for col in range(colNum):\n",
        "        multilist[row][col]= row*col\n",
        "\n",
        "print (multilist)"
      ],
      "execution_count": 10,
      "outputs": [
        {
          "output_type": "stream",
          "name": "stdout",
          "text": [
            "Nhập X, Y: 4 5\n",
            "[[0, 0, 0, 0, 0], [0, 1, 2, 3, 4], [0, 2, 4, 6, 8], [0, 3, 6, 9, 12]]\n"
          ]
        }
      ]
    },
    {
      "cell_type": "markdown",
      "metadata": {
        "id": "bIeDTxqNJ5eL"
      },
      "source": [
        "# Bài 11:\n",
        "Viết một chương trình chấp nhận chuỗi từ do người dùng nhập vào, phân tách nhau bởi dấu phẩy và in những từ đó thành chuỗi theo thứ tự bảng chữ cái, phân tách nhau bằng dấu phẩy.\n",
        "\n",
        "Giả sử đầu vào được nhập là: without,hello,bag,world, thì đầu ra sẽ là: bag,hello,without,world.\n",
        "\n",
        "Gợi ý:\n",
        "*   Trong trường hợp dữ liệu đầu vào được nhập vào chương trình nó nên được giả định là dữ liệu được người dùng nhập vào từ giao diện điều khiển.\n",
        "\n",
        "\n",
        "\n"
      ]
    },
    {
      "cell_type": "code",
      "metadata": {
        "colab": {
          "base_uri": "https://localhost:8080/"
        },
        "id": "MFCQKI1PMPc6",
        "outputId": "810f6f63-2750-470c-f441-b4537b22fc03"
      },
      "source": [
        "items=[x for x in input(\"Nhập một chuỗi: \").split(',')]\n",
        "items.sort()\n",
        "print (','.join(items))"
      ],
      "execution_count": 62,
      "outputs": [
        {
          "output_type": "stream",
          "name": "stdout",
          "text": [
            "Nhập một chuỗi: giapoi,meoi,côni\n",
            "côni,giapoi,meoi\n"
          ]
        }
      ]
    },
    {
      "cell_type": "markdown",
      "metadata": {
        "id": "A7L_m0tBMjq7"
      },
      "source": [
        "# Bài 12:\n",
        "Viết một chương trình chấp nhận chuỗi là các dòng được nhập vào, chuyển các dòng này thành chữ in hoa và in ra màn hình. Giả sử đầu vào là:\n",
        "\n",
        "Hello world\n",
        "Practice makes perfect\n",
        "\n",
        "Thì đầu ra sẽ là:\n",
        "\n",
        "HELLO WORLD\n",
        "PRACTICE MAKES PERFECT\n",
        "\n",
        "Gợi ý:\n",
        "\n",
        "* Trong trường hợp dữ liệu đầu vào được nhập vào chương trình nó nên được giả định là dữ liệu được người dùng nhập vào từ giao diện điều khiển.\n",
        "\n",
        "\n",
        "\n"
      ]
    },
    {
      "cell_type": "code",
      "metadata": {
        "colab": {
          "base_uri": "https://localhost:8080/"
        },
        "id": "feTeHsFoMupy",
        "outputId": "f91959a7-3d28-49d9-ffd3-2d6961396d3d"
      },
      "source": [
        "lines = []\n",
        "s = str(input())\n",
        "lines.append(s.upper())\n",
        "\n",
        "for sentence in lines:\n",
        "    print(sentence)"
      ],
      "execution_count": 65,
      "outputs": [
        {
          "output_type": "stream",
          "name": "stdout",
          "text": [
            "giap oi\n",
            "GIAP OI\n"
          ]
        }
      ]
    },
    {
      "cell_type": "markdown",
      "metadata": {
        "id": "rq-gvrTwRxSO"
      },
      "source": [
        "# Bài 13\n",
        "Viết một chương trình chấp nhận đầu vào là chuỗi các số nhị phân 4 chữ số, phân tách bởi dấu phẩy, kiểm tra xem chúng có chia hết cho 5 không. Sau đó in các số chia hết cho 5 thành dãy phân tách bởi dấu phẩy.\n",
        "\n",
        "Ví dụ đầu vào là: 0100,0011,1010,1001\n",
        "\n",
        "Đầu ra sẽ là: 1010\n",
        "\n",
        "Gợi ý:\n",
        "* Trong trường hợp dữ liệu đầu vào được nhập vào chương trình nó nên được giả định là dữ liệu được người dùng nhập vào từ giao diện điều khiển.\n",
        "\n",
        "\n",
        "\n"
      ]
    },
    {
      "cell_type": "code",
      "metadata": {
        "colab": {
          "base_uri": "https://localhost:8080/"
        },
        "id": "_K-Q-n85R3jl",
        "outputId": "5194d8f9-6ec0-4062-f1e9-275d50c1580c"
      },
      "source": [
        "value = []\n",
        "items=[x for x in input(\"Nhập các số nhị phân: \").split(',')]\n",
        "for p in items:\n",
        "    intp = int(p, 2)\n",
        "    if not intp%5:\n",
        "      value.append(p)\n",
        "\n",
        "print (','.join(value))"
      ],
      "execution_count": 68,
      "outputs": [
        {
          "output_type": "stream",
          "name": "stdout",
          "text": [
            "Nhập các số nhị phân: 0010,1010,0001\n",
            "1010\n"
          ]
        }
      ]
    },
    {
      "cell_type": "markdown",
      "metadata": {
        "id": "9KU6-HgfSFRz"
      },
      "source": [
        "# Bài 14:\n",
        "Viết một chương trình tìm tất cả các số trong đoạn 1000 và 3000 (tính cả 2 số này) sao cho tất cả các chữ số trong số đó là số chẵn. In các số tìm được thành chuỗi cách nhau bởi dấu phẩy, trên một dòng.\n",
        "\n",
        "Gợi ý:\n",
        "* Trong trường hợp dữ liệu đầu vào được nhập vào chương trình nó nên được giả định là dữ liệu được người dùng nhập vào từ giao diện điều khiển.\n",
        "\n",
        "\n",
        "\n"
      ]
    },
    {
      "cell_type": "code",
      "metadata": {
        "colab": {
          "base_uri": "https://localhost:8080/"
        },
        "id": "nUc6UdMLSPTB",
        "outputId": "2ff2430b-c651-40bc-9fb1-ea9ad9893e0b"
      },
      "source": [
        "values = []\n",
        "for i in range(1000, 3001):\n",
        "    s = str(i)\n",
        "    if (int(s[0])%2==0) and (int(s[1])%2==0) and (int(s[2])%2==0) and (int(s[3])%2==0):\n",
        "      values.append(s)\n",
        "\n",
        "print (\",\".join(values))"
      ],
      "execution_count": 70,
      "outputs": [
        {
          "output_type": "stream",
          "name": "stdout",
          "text": [
            "2000,2002,2004,2006,2008,2020,2022,2024,2026,2028,2040,2042,2044,2046,2048,2060,2062,2064,2066,2068,2080,2082,2084,2086,2088,2200,2202,2204,2206,2208,2220,2222,2224,2226,2228,2240,2242,2244,2246,2248,2260,2262,2264,2266,2268,2280,2282,2284,2286,2288,2400,2402,2404,2406,2408,2420,2422,2424,2426,2428,2440,2442,2444,2446,2448,2460,2462,2464,2466,2468,2480,2482,2484,2486,2488,2600,2602,2604,2606,2608,2620,2622,2624,2626,2628,2640,2642,2644,2646,2648,2660,2662,2664,2666,2668,2680,2682,2684,2686,2688,2800,2802,2804,2806,2808,2820,2822,2824,2826,2828,2840,2842,2844,2846,2848,2860,2862,2864,2866,2868,2880,2882,2884,2886,2888\n"
          ]
        }
      ]
    },
    {
      "cell_type": "markdown",
      "metadata": {
        "id": "niHp35OoSdbT"
      },
      "source": [
        "# Bài 15:\n",
        "Viết một chương trình chấp nhận đầu vào là một câu, đếm số chữ cái và chữ số trong câu đó. \n",
        "\n",
        "Giả sử đầu vào sau được cấp cho chương trình: hello world! 123\n",
        "\n",
        "Thì đầu ra sẽ là:\n",
        "\n",
        "Số chữ cái là: 10\n",
        "\n",
        "Số chữ số là: 3\n",
        "\n",
        "Gợi ý:\n",
        "\n",
        "* Trong trường hợp dữ liệu đầu vào được nhập vào chương trình nó nên được giả định là dữ liệu được người dùng nhập vào từ giao diện điều khiển.\n",
        "\n",
        "\n"
      ]
    },
    {
      "cell_type": "code",
      "metadata": {
        "colab": {
          "base_uri": "https://localhost:8080/"
        },
        "id": "88FUzhT3SrjL",
        "outputId": "5ae0c53c-cc2c-4c3f-dff3-29ace49dd127"
      },
      "source": [
        "s = input(\"Nhập câu của bạn: \")\n",
        "d={\"DIGITS\":0, \"LETTERS\":0}\n",
        "for c in s:\n",
        "    if c.isdigit():\n",
        "        d[\"DIGITS\"]+=1\n",
        "    elif c.isalpha():\n",
        "        d[\"LETTERS\"]+=1\n",
        "    else:\n",
        "        pass\n",
        "print (\"Số chữ cái là:\", d[\"LETTERS\"])\n",
        "print (\"Số chữ số là:\", d[\"DIGITS\"])"
      ],
      "execution_count": 71,
      "outputs": [
        {
          "output_type": "stream",
          "name": "stdout",
          "text": [
            "Nhập câu của bạn: helloworld! 123\n",
            "Số chữ cái là: 10\n",
            "Số chữ số là: 3\n"
          ]
        }
      ]
    },
    {
      "cell_type": "markdown",
      "metadata": {
        "id": "ubBJNWRRS5xf"
      },
      "source": [
        "# Bài 16:\n",
        "Viết một chương trình chấp nhận đầu vào là một câu, đếm chữ hoa, chữ thường.\n",
        "\n",
        "Giả sử đầu vào là: Vicode Throne\n",
        "\n",
        "Thì đầu ra là:\n",
        "\n",
        "Chữ hoa: 2\n",
        "\n",
        "Chữ thường: 10\n",
        "\n",
        "Gợi ý:\n",
        "\n",
        "Trong trường hợp dữ liệu đầu vào được nhập vào chương trình nó nên được giả định là dữ liệu được người dùng nhập vào từ giao diện điều khiển."
      ]
    },
    {
      "cell_type": "code",
      "metadata": {
        "colab": {
          "base_uri": "https://localhost:8080/"
        },
        "id": "A44vSJULTGj1",
        "outputId": "eabb7648-daff-426e-9157-0544a45b8c7f"
      },
      "source": [
        "s = input(\"Nhập câu của bạn: \")\n",
        "d={\"UPPER CASE\":0, \"LOWER CASE\":0}\n",
        "for c in s:\n",
        "    if c.isupper():\n",
        "        d[\"UPPER CASE\"]+=1\n",
        "    elif c.islower():\n",
        "        d[\"LOWER CASE\"]+=1\n",
        "    else:\n",
        "        pass\n",
        "print (\"Chữ hoa:\", d[\"UPPER CASE\"])\n",
        "print (\"Chữ thường:\", d[\"LOWER CASE\"])"
      ],
      "execution_count": 72,
      "outputs": [
        {
          "output_type": "stream",
          "name": "stdout",
          "text": [
            "Nhập câu của bạn: Vicode Throne\n",
            "Chữ hoa: 2\n",
            "Chữ thường: 10\n"
          ]
        }
      ]
    },
    {
      "cell_type": "markdown",
      "metadata": {
        "id": "SstdWEvSTOiF"
      },
      "source": [
        "# Bài 17:\n",
        "Viết một chương trình tính giá trị của a+aa+aaa+aaaa với a là số được nhập vào bởi người dùng.\n",
        "\n",
        "Giả sử a được nhập vào là 1 thì đầu ra sẽ là: 1234\n",
        "\n",
        "Gợi ý:\n",
        "\n",
        "\n",
        "*Trong trường hợp dữ liệu đầu vào được nhập vào chương trình nó nên được giả định là dữ liệu được người dùng nhập vào từ giao diện điều khiển.\n",
        "\n",
        "\n",
        "\n"
      ]
    },
    {
      "cell_type": "code",
      "metadata": {
        "colab": {
          "base_uri": "https://localhost:8080/"
        },
        "id": "KiTSFMs_TXby",
        "outputId": "408f4a7b-f932-4d44-aa84-0e28adc25a3e"
      },
      "source": [
        "a = input(\"Nhập số a: \")\n",
        "n1 = int( \"%s\" % a )\n",
        "n2 = int( \"%s%s\" % (a,a) )\n",
        "n3 = int( \"%s%s%s\" % (a,a,a) )\n",
        "n4 = int( \"%s%s%s%s\" % (a,a,a,a) )\n",
        "print (\"Tổng cần tính là: \",n1+n2+n3+n4)"
      ],
      "execution_count": 73,
      "outputs": [
        {
          "output_type": "stream",
          "name": "stdout",
          "text": [
            "Nhập số a: 1\n",
            "Tổng cần tính là:  1234\n"
          ]
        }
      ]
    },
    {
      "cell_type": "markdown",
      "metadata": {
        "id": "DKq7dqVyTfI_"
      },
      "source": [
        "# Bài 18:\n",
        "Một website yêu cầu người dùng nhập tên người dùng và mật khẩu để đăng ký. Viết chương trình để kiểm tra tính hợp lệ của mật khẩu mà người dùng nhập vào.\n",
        "\n",
        "Các tiêu chí kiểm tra mật khẩu bao gồm:\n",
        "\n",
        "1. Ít nhất 1 chữ cái nằm trong [a-z]\n",
        "2. Ít nhất 1 số nằm trong [0-9]\n",
        "3. Ít nhất 1 kí tự nằm trong [A-Z]\n",
        "4. Ít nhất 1 ký tự nằm trong [$ # @]\n",
        "5. Độ dài mật khẩu tối thiểu: 6\n",
        "6. Độ dài mật khẩu tối đa: 12\n",
        "\n",
        "Chương trình phải chấp nhận một chuỗi mật khẩu phân tách nhau bởi dấu phẩy và kiểm tra xem chúng có đáp ứng những tiêu chí trên hay không. Mật khẩu hợp lệ sẽ được in, mỗi mật khẩu cách nhau bởi dấu phẩy.\n",
        "\n",
        "Ví dụ mật khẩu nhập vào chương trình là: ABd1234@1,a F1#,2w3E*,2We3345\n",
        "\n",
        "Thì đầu ra sẽ là: ABd1234@1\n",
        "\n",
        "Gợi ý:\n",
        "* Trong trường hợp dữ liệu đầu vào được nhập vào chương trình nó nên được giả định là dữ liệu được người dùng nhập vào từ giao diện điều khiển.\n",
        "\n",
        "\n",
        "\n",
        "\n"
      ]
    },
    {
      "cell_type": "code",
      "metadata": {
        "colab": {
          "base_uri": "https://localhost:8080/"
        },
        "id": "3vurVZXPUPQX",
        "outputId": "6a15a7e6-7eaa-4eed-ad09-03df301b22f9"
      },
      "source": [
        "import re\n",
        "\n",
        "value = []\n",
        "items=[x for x in input(\"Nhập mật khẩu: \").split(',')]\n",
        "\n",
        "for p in items:\n",
        "    if len(p)<6 or len(p)>12:\n",
        "        continue\n",
        "    else:\n",
        "        pass\n",
        "    if not re.search(\"[a-z]\",p):\n",
        "        continue\n",
        "    elif not re.search(\"[0-9]\",p):\n",
        "        continue\n",
        "    elif not re.search(\"[A-Z]\",p):\n",
        "        continue\n",
        "    elif not re.search(\"[$#@]\",p):\n",
        "        continue\n",
        "    elif re.search(\"\\s\",p):\n",
        "        continue\n",
        "    else:\n",
        "        pass\n",
        "    value.append(p)\n",
        "print (\",\".join(value))\n",
        "\n"
      ],
      "execution_count": 82,
      "outputs": [
        {
          "output_type": "stream",
          "name": "stdout",
          "text": [
            "Nhập mật khẩu: ABd1234@1,zapdeptrai12@\n",
            "ABd1234@1\n"
          ]
        }
      ]
    },
    {
      "cell_type": "markdown",
      "metadata": {
        "id": "OBetswR-V41I"
      },
      "source": [
        "# Bài 19:\n",
        "Một Robot di chuyển trong mặt phẳng bắt đầu từ điểm đầu tiên (0,0). Robot có thể di chuyển theo hướng UP, DOWN, LEFT và RIGHT với những bước nhất định. Dấu di chuyển của robot được đánh hiển thị như sau:\n",
        "\n",
        "UP 5\n",
        "\n",
        "DOWN 3\n",
        "\n",
        "LEFT 3\n",
        "\n",
        "RIGHT 3\n",
        "\n",
        "Các con số sau phía sau hướng di chuyển chính là số bước đi. Hãy viết chương trình để tính toán khoảng cách từ vị trí hiện tại đến vị trí đầu tiên, sau khi robot đã di chuyển một quãng đường. Nếu khoảng cách là một số thập phân chỉ cần in só nguyên gần nhất.\n",
        "\n",
        "\n",
        " \n",
        "Ví dụ: Nếu tuple sau đây là input của chương trình:\n",
        "\n",
        "UP 5\n",
        "DOWN 3\n",
        "LEFT 3\n",
        "RIGHT 2\n",
        "\n",
        "thì đầu ra sẽ là 5.\n",
        "\n",
        "Gợi ý:\n",
        "\n",
        "\n",
        "\n",
        "* Trong trường hợp dữ liệu đầu vào được nhập vào chương trình nó nên được giả định là dữ liệu được người dùng nhập vào từ giao diện điều khiển.\n",
        "\n",
        "\n",
        "\n",
        "\n"
      ]
    },
    {
      "cell_type": "code",
      "metadata": {
        "colab": {
          "base_uri": "https://localhost:8080/"
        },
        "id": "J071DRYnWChM",
        "outputId": "c863b1b6-5b48-4d11-83fc-9132f2018a19"
      },
      "source": [
        "import math\n",
        "pos = [0,0]\n",
        "s = input()\n",
        "movement = s.split(\" \")\n",
        "direction = movement[0]\n",
        "steps = int(movement[1])\n",
        "if direction==\"UP\":\n",
        "    pos[0]+=steps\n",
        "elif direction==\"DOWN\":\n",
        "    pos[0]-=steps\n",
        "elif direction==\"LEFT\":\n",
        "    pos[1]-=steps\n",
        "elif direction==\"RIGHT\":\n",
        "    pos[1]+=steps\n",
        "else:\n",
        "    pass\n",
        "\n",
        "print (int(round(math.sqrt(pos[1]**2+pos[0]**2))))"
      ],
      "execution_count": 5,
      "outputs": [
        {
          "output_type": "stream",
          "name": "stdout",
          "text": [
            "UP 5 DOWN 3 LEFT 3 RIGHT 2\n",
            "5\n"
          ]
        }
      ]
    },
    {
      "cell_type": "markdown",
      "metadata": {
        "id": "DylRHiY7X-VI"
      },
      "source": [
        "# Bài 20:\n",
        "Viết chương trình tính tần suất các từ từ input. Output được xuất ra sau khi đã sắp xếp theo bảng chữ cái.\n",
        "\n",
        "Giả sử input là: New to Python or choosing between Python 2 and Python 3? Read Python 2 or Python 3\n",
        "\n",
        "Thì output phải là:\n",
        "\n",
        "2:2\n",
        "\n",
        "3.:1\n",
        "\n",
        "3?:1\n",
        "\n",
        "New:1\n",
        "\n",
        "Python:5\n",
        "\n",
        "Read:1\n",
        "\n",
        "and:1\n",
        "\n",
        "between:1\n",
        "\n",
        "choosing:1\n",
        "\n",
        "or:2\n",
        "\n",
        "to:1\n",
        "\n",
        "Gợi ý:\n",
        "\n",
        "* Trong trường hợp dữ liệu đầu vào được cung cấp cho câu hỏi, nó phải được giả định là một input được nhập từ giao diện điều khiển.\n",
        "\n",
        "\n",
        "\n"
      ]
    },
    {
      "cell_type": "code",
      "metadata": {
        "colab": {
          "base_uri": "https://localhost:8080/"
        },
        "id": "xU_RIvG9Yerb",
        "outputId": "925da758-4759-494e-ba15-c9bbfaac8289"
      },
      "source": [
        "freq = {} # frequency of words in text\n",
        "line = input()\n",
        "for word in line.split():\n",
        "    freq[word] = freq.get(word,0)+1\n",
        "  \n",
        "words = sorted(freq.keys())\n",
        "for w in words:\n",
        "    print (\"%s:%d\" % (w,freq[w]))"
      ],
      "execution_count": 6,
      "outputs": [
        {
          "output_type": "stream",
          "name": "stdout",
          "text": [
            "New to Python or choosing between Python 2 and Python 3? Read Python 2 or Python 3\n",
            "2:2\n",
            "3:1\n",
            "3?:1\n",
            "New:1\n",
            "Python:5\n",
            "Read:1\n",
            "and:1\n",
            "between:1\n",
            "choosing:1\n",
            "or:2\n",
            "to:1\n"
          ]
        }
      ]
    },
    {
      "cell_type": "markdown",
      "metadata": {
        "id": "HYBOodn98dV5"
      },
      "source": [
        "Nguồn: [Quantrimang.com](https://https://quantrimang.com/hon-100-bai-tap-python-co-loi-giai-code-mau-142456#mcetoc_1btli9vou2)"
      ]
    }
  ]
}