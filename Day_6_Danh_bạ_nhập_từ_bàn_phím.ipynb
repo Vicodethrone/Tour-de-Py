{
  "nbformat": 4,
  "nbformat_minor": 0,
  "metadata": {
    "colab": {
      "name": "Day 6: Danh bạ nhập từ bàn phím.ipynb",
      "provenance": [],
      "toc_visible": true,
      "authorship_tag": "ABX9TyO0v77KjWZ9wpT/Z8nF1eAj",
      "include_colab_link": true
    },
    "kernelspec": {
      "name": "python3",
      "display_name": "Python 3"
    },
    "language_info": {
      "name": "python"
    }
  },
  "cells": [
    {
      "cell_type": "markdown",
      "metadata": {
        "id": "view-in-github",
        "colab_type": "text"
      },
      "source": [
        "<a href=\"https://colab.research.google.com/github/Vicodethrone/Tour-de-Py/blob/main/Day_6_Danh_b%E1%BA%A1_nh%E1%BA%ADp_t%E1%BB%AB_b%C3%A0n_ph%C3%ADm.ipynb\" target=\"_parent\"><img src=\"https://colab.research.google.com/assets/colab-badge.svg\" alt=\"Open In Colab\"/></a>"
      ]
    },
    {
      "cell_type": "markdown",
      "metadata": {
        "id": "sY7lI1dEvDQH"
      },
      "source": [
        "# Xây dựng danh bạ đơn giản nhập từ bàn phím\n",
        "Ở phần này các bạn sẽ được sử dụng những kiến thức đã học để tạo một danh bạ cơ bản nhập từ bàn phím. Với kĩ năng code của bạn thôi cũng đã có thể tạo ra những chương trình đơn giản nhưng hữu dụng trong đời sống. Tuy vậy cũng đừng xem thường vì một số phần kiến thức sẽ hơi khó và phải làm việc với nhiều dòng code, rất thích hợp để ôn tập."
      ]
    },
    {
      "cell_type": "markdown",
      "metadata": {
        "id": "nKqIpz9wzeRf"
      },
      "source": [
        "# Kiến thức sử dụng\n",
        "\n",
        "\n",
        "1.   Định dạng chuỗi nhiều dòng (Multiple line strings format)\n",
        "2.   Hàm print và input\n",
        "\n",
        "3.   Data Structure: sử dụng phương thức dictionary (làm sao để tạo dictionary trống, xoá và cập nhập thông tin)\n",
        "4.   Kiểm soát các flow statements(if/else, break, return, vòng lặp)  \n",
        "\n",
        "5.  hàm (function)\n",
        "\n",
        "\n",
        "\n",
        "\n",
        "\n",
        "\n",
        "\n",
        "\n",
        "\n",
        "\n"
      ]
    },
    {
      "cell_type": "markdown",
      "metadata": {
        "id": "Y811mufM41mk"
      },
      "source": [
        "# Code step by step"
      ]
    },
    {
      "cell_type": "markdown",
      "metadata": {
        "id": "KFNpP3ZW5FJj"
      },
      "source": [
        "## 1. Khai báo hàm để show các option cho user chọn, cũng như cách hoạt động của danh bạ\n",
        "### i. Khái báo function tên \"welcome\"'\n",
        "### ii. Khai báo biến sử dụng hàm input và có định dạng chuỗi nhiều dòng trong function\n",
        "### iii. Đóng function\n",
        "\n"
      ]
    },
    {
      "cell_type": "code",
      "metadata": {
        "id": "WlD3BO1C6jt8"
      },
      "source": [
        "def welcome():\n",
        "    # Create an entry variable using the input function and multiple line strings format\n",
        "    entry = int(input(\"\"\"Welcome to Py Contact Book.  \n",
        "                    >>>Py Contact Book commands are: 1,2,3 or 4 <<<\n",
        "                    >>>What would you like to do?<<<\n",
        "                    1. Display Your exiting contacts\n",
        "                    2. Create a New contact\n",
        "                    3. Check an entry \n",
        "                    4. Delete an entry\n",
        "                    5. Exit\n",
        "                    Enter your entry here(1,2,3 0r 4):  \"\"\"))\n",
        "\n",
        "    # Close the function\n",
        "    return entry"
      ],
      "execution_count": null,
      "outputs": []
    },
    {
      "cell_type": "markdown",
      "metadata": {
        "id": "USItkSap5dm_"
      },
      "source": [
        "## 2. Khai báo hàm chính \"phonebook\"\n",
        "### i. khởi tạo một hàm phonebook()\n",
        "### ii. khởi tạo một dictionary trống là contact để lưu dữ liệu trong hàm phonebook()"
      ]
    },
    {
      "cell_type": "code",
      "metadata": {
        "id": "-MaMwOuA_BVy"
      },
      "source": [
        "# Define a function Phonebook\n",
        "def phonebook():\n",
        "    # initiate an empty contact dictionary to store values\n",
        "    contact = {}"
      ],
      "execution_count": null,
      "outputs": []
    },
    {
      "cell_type": "markdown",
      "metadata": {
        "id": "rAbUCqHy_HkH"
      },
      "source": [
        "## 3. Tạo vòng lặp trong phonebook() để chương trình liên tục chạy\n",
        "Lưu ý syntax của vòng lặp hay các flow statement khác như tab để thực hiện lệnh bên trong"
      ]
    },
    {
      "cell_type": "markdown",
      "metadata": {
        "id": "yGo5v-DS_5sU"
      },
      "source": [
        "## 4. Gọi lại hàm wellcome() và lưu vào biến entry"
      ]
    },
    {
      "cell_type": "code",
      "metadata": {
        "id": "UI-_N4ou_wzs"
      },
      "source": [
        "# initiate a while loop to continuously run the phonebook program\n",
        "while True:\n",
        "  # call welcome function.\n",
        "  # Set entry variable to welcome function\n",
        "  entry = welcome()"
      ],
      "execution_count": null,
      "outputs": []
    },
    {
      "cell_type": "markdown",
      "metadata": {
        "id": "37OVWp2u_wQP"
      },
      "source": [
        "## 5. Sử dụng if/else để xử lý các option của user\n",
        "### i. Với entry thứ nhất (khi entry == 1) thì check xem contact có rỗng không. Nếu không thì print contact đã có\n",
        "### ii. Nếu không thì print phonebook trống\n"
      ]
    },
    {
      "cell_type": "code",
      "metadata": {
        "id": "CncXEUzvBoHz"
      },
      "source": [
        "# Create conditions for decision making for any option entered by the user\n",
        "if entry == 1:\n",
        "    # For first entry Check if contact dict is empty\n",
        "    # If not empty,i.e bool(contact)==False, Print current contact list\n",
        "    if bool(contact) != False:\n",
        "        for k, v in contact.items():\n",
        "            print(k, '-->', v)\n",
        "    # Else inform the user that the contact book is empty\n",
        "    else:\n",
        "        print('You have an empty phonebook! Go back to the menu to add a new contact')"
      ],
      "execution_count": null,
      "outputs": []
    },
    {
      "cell_type": "markdown",
      "metadata": {
        "id": "vjDtv0t2B61Q"
      },
      "source": [
        "## 6. Xử lý entry thứ hai\n",
        "### i. Yêu cầu nhập tên và số điện thoại\n",
        "### ii. Kiểm tra xem số điện thoại đã tồn tại hay chưa\n",
        "### iii. Nếu không thì cập nhập vào phonebook\n",
        "### iv. In rằng thêm số thành công\n",
        "### v. Sử dụng vòng lặp để in các contact đã có ở mỗi dòng\n",
        "### vi. Nếu số đã tồn tại thì in ra tài khoản đã tồn tại"
      ]
    },
    {
      "cell_type": "code",
      "metadata": {
        "id": "Xf6sTEXwDLeu"
      },
      "source": [
        "# Decision For the 2nd entry\n",
        "elif entry == 2:\n",
        "    # Request for phone number and contact name\n",
        "    phone_number = input('Please Enter a number: ')\n",
        "    contact_name = input('What would you like to Save the name as? Enter in the format \"FirstName,LastName\".: ')\n",
        "\n",
        "    # Check if the contact number already exits in Phonebook\n",
        "    # If it does not, update current contact list in PhoneBook\n",
        "    if phone_number not in contact.items():\n",
        "        contact.update({contact_name: phone_number})\n",
        "        # Print a success message\n",
        "        print('Contact successfully saved')\n",
        "        print('Your updated phonebook is Shown below: ')\n",
        "        # Loop through Phonebook and display each contact in a separate line\n",
        "        for k, v in contact.items():\n",
        "            print(k, '-->', v)\n",
        "    # Else display a message to inform the user that contact already exits\n",
        "    else:\n",
        "        print('That contact already exits in your Phonebook')"
      ],
      "execution_count": null,
      "outputs": []
    },
    {
      "cell_type": "markdown",
      "metadata": {
        "id": "GR3YXkwRDaMo"
      },
      "source": [
        "## 7. Xử lý entry thứ ba\n",
        "### i. Khởi tạo biến \"name\" để hỏi user số điện thoại muốn show\n",
        "### ii. Dùng if/else để check xem tên cần tìm đã xuất hiện trong phonebook chưa\n",
        "### iii. Nếu có thì in ra số điện thoại cần tìm\n",
        "### iv. Nếu không thì in ra số điện thoại không tồn tại"
      ]
    },
    {
      "cell_type": "code",
      "metadata": {
        "id": "Q8hna5bYFAHl"
      },
      "source": [
        "# Create a decision for the third entry\n",
        "elif entry == 3:\n",
        "  # initiate a name variable which user wishes to view\n",
        "  name = input('Enter the name of the contact details you wish to view: ')\n",
        "  # Create a condition to check if the entered name is in the phonebook\n",
        "  if name in contact:\n",
        "    # If yes, print the required contact\n",
        "    print('The contact is', name, ':', contact[name])\n",
        "\n",
        "    # Else inform the user that the contact does not exist\n",
        "  else:\n",
        "    print('That contact does not exist! Return to the main menu to enter the contact')"
      ],
      "execution_count": null,
      "outputs": []
    },
    {
      "cell_type": "markdown",
      "metadata": {
        "id": "sKJiQw8fFPfw"
      },
      "source": [
        "## 8. Xử lý entry thứ tư\n",
        "### i. khởi tạo biến \"name\"\n",
        "### ii. Lặp lại bước 7(i-iv)\n",
        "### iii. Xác nhận rằng nếu user muốn xoá liên lạc\n"
      ]
    },
    {
      "cell_type": "code",
      "metadata": {
        "id": "ZzUH3fb8GEtP"
      },
      "source": [
        "# Create a decision for entry 4\n",
        "elif entry == 4:\n",
        "    # Initiate a name variable\n",
        "    name = input('Enter the name of the contact you wish to delete: ')\n",
        "    # check if contact exists\n",
        "    if name in contact:\n",
        "        # print the required contact\n",
        "        print('The contact is', name, ':', contact[name])\n",
        "\n",
        "        # Else inform the user that the contact does not exist\n",
        "    else:\n",
        "        print('That contact does not exist! Return to the main menu to enter the contact')\n",
        "\n",
        "    # COnfirm if user wishes to delete contact\n",
        "    confirm = input('Are you sure you wish to delete this contact? Yes/No: ')\n",
        "    # Initiate a decision\n",
        "    if confirm.capitalize() == 'Yes':\n",
        "        # If yes, delete contact from Phonebook\n",
        "        contact.pop(name, None)\n",
        "        # Loop through Phonebook and print updated contact list\n",
        "    for k, v in contact.items():\n",
        "        print('Your Updated Phonebook is shown below:')\n",
        "        print(k, '-->', v)\n",
        "# ELse return to main menu\n",
        "    else:\n",
        "        print('Return to Main Menu')"
      ],
      "execution_count": null,
      "outputs": []
    },
    {
      "cell_type": "markdown",
      "metadata": {
        "id": "AVbC9DZtGJ-K"
      },
      "source": [
        "## 9. Xử lý entry thứ 5\n",
        "Kết thúc chương trình và thoát ra ngoài"
      ]
    },
    {
      "cell_type": "code",
      "metadata": {
        "id": "us6iDonMGXVI"
      },
      "source": [
        "# Break program for fifth entry\n",
        "elif entry == 5:\n",
        "    print('Thanks for using the Py Contact Book')\n",
        "    break"
      ],
      "execution_count": null,
      "outputs": []
    },
    {
      "cell_type": "markdown",
      "metadata": {
        "id": "t1zQJbcGGiI2"
      },
      "source": [
        "## 10. Nếu user nhập entry ngoài các số từ 1-5\n",
        "In nhập sai số"
      ]
    },
    {
      "cell_type": "code",
      "metadata": {
        "id": "YrGZchJ5G2h7"
      },
      "source": [
        "# Error Message\n",
        "else:\n",
        "    print('Incorrect Entry!')"
      ],
      "execution_count": null,
      "outputs": []
    },
    {
      "cell_type": "markdown",
      "metadata": {
        "id": "iTUMEpOTGcGs"
      },
      "source": [
        "# Lưu và chạy chương trình\n",
        "recall lại hàm phonebook() để chạy chương trình, thưởng thức thành quả nhé."
      ]
    },
    {
      "cell_type": "markdown",
      "metadata": {
        "id": "__maqSLj6Klb"
      },
      "source": [
        "Nguồn: [Building a Simple PhoneBook](https://mardiyyah.medium.com/building-a-simple-phonebook-learnpythonthroughprojects-series-10-af56d527f463)"
      ]
    }
  ]
}