{
  "nbformat": 4,
  "nbformat_minor": 0,
  "metadata": {
    "colab": {
      "name": "Day 7: Story generator command line.ipynb",
      "provenance": [],
      "collapsed_sections": [],
      "toc_visible": true,
      "authorship_tag": "ABX9TyNr+TBZPe3p91OY5OxEdxcM",
      "include_colab_link": true
    },
    "kernelspec": {
      "name": "python3",
      "display_name": "Python 3"
    },
    "language_info": {
      "name": "python"
    }
  },
  "cells": [
    {
      "cell_type": "markdown",
      "metadata": {
        "id": "view-in-github",
        "colab_type": "text"
      },
      "source": [
        "<a href=\"https://colab.research.google.com/github/Vicodethrone/Tour-de-Py/blob/main/Day_7_Story_generator_command_line.ipynb\" target=\"_parent\"><img src=\"https://colab.research.google.com/assets/colab-badge.svg\" alt=\"Open In Colab\"/></a>"
      ]
    },
    {
      "cell_type": "markdown",
      "metadata": {
        "id": "HTlf7-ZfwZ8c"
      },
      "source": [
        "# Cách hoạt động của story generator (Ứng dụng tự tạo câu truyện)\n",
        "\n",
        "Trình tạo câu chuyện ngẫu nhiên của chúng tôi sẽ được cung cấp một vài danh sách các cụm từ và mỗi khi chúng tôi chạy chương trình của mình, một câu sẽ được hình thành ngẫu nhiên bằng cách chọn các cụm từ từ các danh sách đó. Đây sẽ là một dự án dễ dàng cho những người mới bắt đầu làm quen syntax python."
      ]
    },
    {
      "cell_type": "markdown",
      "metadata": {
        "id": "xCI7iGd_1l7i"
      },
      "source": [
        "Ở project này mục đích của chúng ta là ghép random các phrase để tạo thành một câu chuyện. nên chúng ta sẽ sử dụng module random (thư viện có sẵn trong python mà không cần cài)"
      ]
    },
    {
      "cell_type": "code",
      "metadata": {
        "id": "A8nSCzoOwTEf"
      },
      "source": [
        "import random"
      ],
      "execution_count": null,
      "outputs": []
    },
    {
      "cell_type": "markdown",
      "metadata": {
        "id": "uGqCt6PF2BH9"
      },
      "source": [
        "Giờ là lúc khai báo các list có chứa các random phrase"
      ]
    },
    {
      "cell_type": "code",
      "metadata": {
        "id": "9Evg-4uT2PBP"
      },
      "source": [
        "when = ['A long time ago', 'Yesterday', 'Before you were born', 'In future', 'Before Thanos arrived']\n",
        "who = ['Shazam', 'Iron Man', 'Batman', 'Superman', 'Captain America']\n",
        "went = ['Arkham Asylum', 'Gotham City', 'Stark Tower', 'Bat Cave', 'Avengers HQ']\n",
        "what = ['to eat a lot of cakes', 'to fight for justice', 'to steal ice cream', 'to dance']"
      ],
      "execution_count": null,
      "outputs": []
    },
    {
      "cell_type": "markdown",
      "metadata": {
        "id": "d-OSKoO92Qg9"
      },
      "source": [
        "Ở đây chúng ta có 4 list khác nhau nhưng bạn hoàn toàn có thể làm nhiều hơn thế và thiết kế theo ý muốn của bạn để tạo câu truyện được dài hơn"
      ]
    },
    {
      "cell_type": "markdown",
      "metadata": {
        "id": "n7RriHQ62uVB"
      },
      "source": [
        "Bây giờ là lúc in output để chiêm ngưỡng câu chuyện của mình"
      ]
    },
    {
      "cell_type": "code",
      "metadata": {
        "id": "Ukxu7DCT21nO"
      },
      "source": [
        "print(random.choice(when) + ', ' + random.choice(who) + ' went to ' + random.choice(went) + ' ' + random.choice(what) + '.')"
      ],
      "execution_count": null,
      "outputs": []
    },
    {
      "cell_type": "markdown",
      "metadata": {
        "id": "LRZX9_Or22Wp"
      },
      "source": [
        "Ở đây chúng ta sử dụng hàm random.choice() để chọn ngẫu nhiên một cụm từ từ danh sách đã cho. Chúng ta cũng sử dụng toán tử + để nối (hoặc kết hợp) tất cả các cụm từ lại với nhau và tạo thành một câu chuyện."
      ]
    },
    {
      "cell_type": "markdown",
      "metadata": {
        "id": "HTXawVyj3Orb"
      },
      "source": [
        "Vậy là đã xong một chương trình tạo câu chuyện random. Nếu bạn thấy câu chuyện của mình còn ngắn hay chưa hấp dẫn, bạn hoàn toàn có thể nâng cấp bằng cách tạo giao diện hoặc thêm nhiều những list từ,... để có thể được như các ứng dụng tạo văn bản hiện nay nhé.\n",
        "\n",
        "Nguồn: [dev.to](https://dev.to/mindninjax/how-to-build-a-random-story-generator-using-python-1oah)"
      ]
    }
  ]
}